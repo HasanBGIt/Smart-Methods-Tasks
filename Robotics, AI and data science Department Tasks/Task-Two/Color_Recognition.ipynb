{
 "cells": [
  {
   "cell_type": "code",
   "execution_count": null,
   "id": "0733a153",
   "metadata": {},
   "outputs": [
    {
     "name": "stdout",
     "output_type": "stream",
     "text": [
      "Result saved as: ./data/color_recognition_result.jpg\n"
     ]
    }
   ],
   "source": [
    "import cv2\n",
    "import numpy as np\n",
    "\n",
    "image = cv2.imread('./data/color.png')\n",
    "hsv_image = cv2.cvtColor(image, cv2.COLOR_BGR2HSV)\n",
    "\n",
    "lower_color = np.array([100, 150, 50])\n",
    "upper_color = np.array([140, 255, 255])\n",
    "\n",
    "mask = cv2.inRange(hsv_image, lower_color, upper_color)\n",
    "result = cv2.bitwise_and(image, image, mask=mask)\n",
    "\n",
    "color_name = \"Blue\"\n",
    "\n",
    "font = cv2.FONT_HERSHEY_SIMPLEX\n",
    "cv2.putText(result, color_name, (10, 30), font, 1, (0, 255, 0), 2, cv2.LINE_AA)\n",
    "\n",
    "output_path = './data/color_recognition_result.jpg'\n",
    "cv2.imwrite(output_path, result)\n",
    "\n",
    "cv2.imshow(\"Color Recognition\", result)\n",
    "cv2.waitKey(0)\n",
    "cv2.destroyAllWindows()\n",
    "\n",
    "print(f\"Result saved as: {output_path}\")\n"
   ]
  }
 ],
 "metadata": {
  "kernelspec": {
   "display_name": "Python 3",
   "language": "python",
   "name": "python3"
  },
  "language_info": {
   "codemirror_mode": {
    "name": "ipython",
    "version": 3
   },
   "file_extension": ".py",
   "mimetype": "text/x-python",
   "name": "python",
   "nbconvert_exporter": "python",
   "pygments_lexer": "ipython3",
   "version": "3.12.7"
  }
 },
 "nbformat": 4,
 "nbformat_minor": 5
}
