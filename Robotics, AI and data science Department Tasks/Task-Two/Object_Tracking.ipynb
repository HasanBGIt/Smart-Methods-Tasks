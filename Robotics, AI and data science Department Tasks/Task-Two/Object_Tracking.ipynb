{
 "cells": [
  {
   "cell_type": "code",
   "execution_count": null,
   "id": "46337a83",
   "metadata": {},
   "outputs": [
    {
     "name": "stdout",
     "output_type": "stream",
     "text": [
      "Select 3 objects to track.\n",
      "Error: Failed to read the next frame. Exiting...\n",
      "Video saved as 'tracked_objects_output.mp4'\n"
     ]
    }
   ],
   "source": [
    "import cv2\n",
    "\n",
    "cap = cv2.VideoCapture('./data/bottle-detection.mp4')\n",
    "\n",
    "ret, first_frame = cap.read()\n",
    "\n",
    "print(\"Select 3 objects to track.\")\n",
    "roi1 = cv2.selectROI(\"Select Object 1\", first_frame, fromCenter=False, showCrosshair=True)\n",
    "roi2 = cv2.selectROI(\"Select Object 2\", first_frame, fromCenter=False, showCrosshair=True)\n",
    "roi3 = cv2.selectROI(\"Select Object 3\", first_frame, fromCenter=False, showCrosshair=True)\n",
    "\n",
    "if roi1 == (0, 0, 0, 0) or roi2 == (0, 0, 0, 0) or roi3 == (0, 0, 0, 0):\n",
    "    print(\"Error: One or more ROIs were not selected. Exiting...\")\n",
    "    exit()\n",
    "\n",
    "tracker1 = cv2.TrackerKCF_create()\n",
    "tracker2 = cv2.TrackerKCF_create()\n",
    "tracker3 = cv2.TrackerKCF_create()\n",
    "\n",
    "tracker1.init(first_frame, roi1)\n",
    "tracker2.init(first_frame, roi2)\n",
    "tracker3.init(first_frame, roi3)\n",
    "\n",
    "frame_width = int(cap.get(cv2.CAP_PROP_FRAME_WIDTH))\n",
    "frame_height = int(cap.get(cv2.CAP_PROP_FRAME_HEIGHT))\n",
    "output_video = cv2.VideoWriter('tracked_objects_output.mp4', cv2.VideoWriter_fourcc(*'mp4v'), 20, (frame_width, frame_height))\n",
    "\n",
    "while True:\n",
    "    ret, current_frame = cap.read()\n",
    "    if not ret:\n",
    "        print(\"Error: Failed to read the next frame. Exiting...\")\n",
    "        break\n",
    "\n",
    "    success1, box1 = tracker1.update(current_frame)\n",
    "    success2, box2 = tracker2.update(current_frame)\n",
    "    success3, box3 = tracker3.update(current_frame)\n",
    "\n",
    "    if success1:\n",
    "        (x1, y1, w1, h1) = [int(v) for v in box1]\n",
    "        cv2.rectangle(current_frame, (x1, y1), (x1 + w1, y1 + h1), (0, 255, 0), 2)\n",
    "    else:\n",
    "        cv2.putText(current_frame, \"Tracking Failure (Object 1)\", (100, 80), cv2.FONT_HERSHEY_SIMPLEX, 1, (0, 0, 255), 2)\n",
    "\n",
    "    if success2:\n",
    "        (x2, y2, w2, h2) = [int(v) for v in box2]\n",
    "        cv2.rectangle(current_frame, (x2, y2), (x2 + w2, y2 + h2), (255, 0, 0), 2)\n",
    "    else:\n",
    "        cv2.putText(current_frame, \"Tracking Failure (Object 2)\", (100, 120), cv2.FONT_HERSHEY_SIMPLEX, 1, (0, 0, 255), 2)\n",
    "\n",
    "    if success3:\n",
    "        (x3, y3, w3, h3) = [int(v) for v in box3]\n",
    "        cv2.rectangle(current_frame, (x3, y3), (x3 + w3, y3 + h3), (0, 0, 255), 2)\n",
    "    else:\n",
    "        cv2.putText(current_frame, \"Tracking Failure (Object 3)\", (100, 160), cv2.FONT_HERSHEY_SIMPLEX, 1, (0, 0, 255), 2)\n",
    "\n",
    "    cv2.imshow(\"Object Tracking\", current_frame)\n",
    "    output_video.write(current_frame)\n",
    "    if cv2.waitKey(1) & 0xFF == ord('q'):\n",
    "        break\n",
    "\n",
    "cap.release()\n",
    "output_video.release()\n",
    "cv2.destroyAllWindows()\n",
    "print(\"Video saved as 'tracked_objects_output.mp4'\")\n",
    "# https://github.com/intel-iot-devkit/sample-videos"
   ]
  }
 ],
 "metadata": {
  "kernelspec": {
   "display_name": "Python 3",
   "language": "python",
   "name": "python3"
  },
  "language_info": {
   "codemirror_mode": {
    "name": "ipython",
    "version": 3
   },
   "file_extension": ".py",
   "mimetype": "text/x-python",
   "name": "python",
   "nbconvert_exporter": "python",
   "pygments_lexer": "ipython3",
   "version": "3.12.7"
  }
 },
 "nbformat": 4,
 "nbformat_minor": 5
}
