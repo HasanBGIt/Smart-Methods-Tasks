{
 "cells": [
  {
   "cell_type": "code",
   "execution_count": null,
   "id": "c6e9ad84",
   "metadata": {},
   "outputs": [
    {
     "name": "stdout",
     "output_type": "stream",
     "text": [
      "Image saved as: ./data/faces_with_detection.jpg\n"
     ]
    }
   ],
   "source": [
    "import cv2\n",
    "\n",
    "face_classifier = cv2.CascadeClassifier(cv2.data.haarcascades + 'haarcascade_frontalface_default.xml')\n",
    "input_image = cv2.imread('./data/faces.jpg')\n",
    "\n",
    "gray_image = cv2.cvtColor(input_image, cv2.COLOR_BGR2GRAY)\n",
    "\n",
    "detected_faces = face_classifier.detectMultiScale(gray_image, scaleFactor=1.1, minNeighbors=5, minSize=(30, 30), flags=cv2.CASCADE_SCALE_IMAGE)\n",
    "\n",
    "for (x, y, w, h) in detected_faces:\n",
    "    cv2.rectangle(input_image, (x, y), (x + w, y + h), (255, 0, 0), 2)\n",
    "\n",
    "cv2.imshow(\"Detected Faces\", input_image)\n",
    "\n",
    "output_image_path = './data/faces_with_detection.jpg'\n",
    "cv2.imwrite(output_image_path, input_image)\n",
    "\n",
    "cv2.waitKey(0)\n",
    "cv2.destroyAllWindows()\n",
    "\n",
    "print(f\"Image saved as: {output_image_path}\")\n",
    "# https://www.istockphoto.com/photos/crowded-street-faces"
   ]
  }
 ],
 "metadata": {
  "kernelspec": {
   "display_name": "Python 3",
   "language": "python",
   "name": "python3"
  },
  "language_info": {
   "codemirror_mode": {
    "name": "ipython",
    "version": 3
   },
   "file_extension": ".py",
   "mimetype": "text/x-python",
   "name": "python",
   "nbconvert_exporter": "python",
   "pygments_lexer": "ipython3",
   "version": "3.12.7"
  }
 },
 "nbformat": 4,
 "nbformat_minor": 5
}
